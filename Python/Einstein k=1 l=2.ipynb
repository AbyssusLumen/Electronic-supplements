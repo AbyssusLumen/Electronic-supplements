{
 "cells": [
  {
   "cell_type": "code",
   "execution_count": 10,
   "id": "77c1bc81",
   "metadata": {},
   "outputs": [
    {
     "name": "stdout",
     "output_type": "stream",
     "text": [
      "{1: array([0.38999672, 0.41444527, 1.03320198]), 100: array([3.89996725e+01, 4.14445265e+01, 1.03320198e-02])}\n"
     ]
    }
   ],
   "source": [
    "from scipy.optimize import fsolve\n",
    "\n",
    "# Defining the given equations\n",
    "def equations(vars, x_value):\n",
    "    y, z, λ = vars\n",
    "\n",
    "    eq1 = -(-7.0 * x_value**2 * y**2 + 7.0 * x_value**2 * z**2 - 6.0 * x_value * y**3 * z * λ + 42.0 * x_value * y**2 * z - 7.0 * y**2 * z**2) / (7 * x_value * y * z) + (6.75 * x_value**3 * y * z * λ - x_value**2 * y * z * (20.25 * x_value * λ - 28.0) + 7.0 * x_value * y * (-x_value * y + x_value * z + y * z) + 7.0 * x_value * z * (x_value * y - x_value * z + y * z) - (-3.5 * x_value * y + 3.5 * x_value * z + 3.5 * y * z) * (x_value * y + x_value * z - y * z) - (x_value * y + x_value * z - y * z) * (3.5 * x_value * y - 3.5 * x_value * z + 3.5 * y * z)) / (7 * x_value * y * z)\n",
    "    eq2 = (-13.5 * x_value**3 * z * λ - 14.0 * x_value**2 * y + 42.0 * x_value**2 * z + 1.5 * x_value * z**3 * λ - 42.0 * x_value * z**2 + 14.0 * y * z**2) / (7 * x_value * z)\n",
    "    eq3 = -0.142857142857143 * λ * (13.5 * x_value**2 + 6.0 * y**2 + 1.5 * z**2) + (6.75 * x_value**3 * y * z * λ - x_value**2 * y * z * (20.25 * x_value * λ - 28.0) + 7.0 * x_value * y * (-x_value * y + x_value * z + y * z) + 7.0 * x_value * z * (x_value * y - x_value * z + y * z) - (-3.5 * x_value * y + 3.5 * x_value * z + 3.5 * y * z) * (x_value * y + x_value * z - y * z) - (x_value * y + x_value * z - y * z) * (3.5 * x_value * y - 3.5 * x_value * z + 3.5 * y * z)) / (7 * x_value * y * z)\n",
    "\n",
    "    return [eq1, eq2, eq3]\n",
    "\n",
    "# Initial guess\n",
    "initial_guess = [1, 1, 1]\n",
    "\n",
    "# Solve for different values of x\n",
    "solutions = {}\n",
    "for x_val in range(1, 102,99):\n",
    "    solution = fsolve(equations, initial_guess, args=(x_val))\n",
    "    solutions[x_val] = solution\n",
    "\n",
    "print(solutions)\n"
   ]
  },
  {
   "cell_type": "code",
   "execution_count": 15,
   "id": "4c02be65",
   "metadata": {},
   "outputs": [
    {
     "name": "stdout",
     "output_type": "stream",
     "text": [
      "Optimized values:\n",
      "r1: 1.03320197854995\n",
      "t1: 0.3899967249796228\n",
      "t2: 0.4144452652101791\n"
     ]
    }
   ],
   "source": [
    "import numpy as np\n",
    "from scipy.optimize import minimize\n",
    "\n",
    "# Define the equations\n",
    "def equations(params, x):\n",
    "    r1, t1, t2 = params\n",
    "    eq1 = -(-6.0*r1*t1**3*t2*x**4 - 7.0*t1**2*t2**2*x**4 + 42.0*t1**2*t2*x**4 - 7.0*t1**2*x**4 + 7.0*t2**2*x**4)/(7*t1*t2*x**3) + (6.75*r1*t1*t2*x**4 - t1*t2*x**4*(20.25*r1 - 28.0) + 7.0*t1*x**2*(t1*t2*x**2 - t1*x**2 + t2*x**2) + 7.0*t2*x**2*(t1*t2*x**2 + t1*x**2 - t2*x**2) - (-t1*t2*x**2 + t1*x**2 + t2*x**2)*(3.5*t1*t2*x**2 - 3.5*t1*x**2 + 3.5*t2*x**2) - (-t1*t2*x**2 + t1*x**2 + t2*x**2)*(3.5*t1*t2*x**2 + 3.5*t1*x**2 - 3.5*t2*x**2))/(7*t1*t2*x**3)\n",
    "    eq2 = (1.5*r1*t2**3*x**3 - 13.5*r1*t2*x**3 + 14.0*t1*t2**2*x**3 - 14.0*t1*x**3 - 42.0*t2**2*x**3 + 42.0*t2*x**3)/(7*t2*x**2)\n",
    "    eq3 = -0.142857142857143*r1*(6.0*t1**2*x**2 + 1.5*t2**2*x**2 + 13.5*x**2)/x + (6.75*r1*t1*t2*x**4 - t1*t2*x**4*(20.25*r1 - 28.0) + 7.0*t1*x**2*(t1*t2*x**2 - t1*x**2 + t2*x**2) + 7.0*t2*x**2*(t1*t2*x**2 + t1*x**2 - t2*x**2) - (-t1*t2*x**2 + t1*x**2 + t2*x**2)*(3.5*t1*t2*x**2 - 3.5*t1*x**2 + 3.5*t2*x**2) - (-t1*t2*x**2 + t1*x**2 + t2*x**2)*(3.5*t1*t2*x**2 + 3.5*t1*x**2 - 3.5*t2*x**2))/(7*t1*t2*x**3)\n",
    "    return (eq1, eq2, eq3)\n",
    "\n",
    "# Objective function to minimize\n",
    "def objective(params, x_values):\n",
    "    total_error = 0\n",
    "    for x in x_values:\n",
    "        eq1, eq2, eq3 = equations(params, x)\n",
    "        total_error += eq1**2 + eq2**2 + eq3**2\n",
    "    return total_error\n",
    "\n",
    "# Initial guess\n",
    "params_initial = [1, 1, 1]\n",
    "x_values = [1, 5, 10, 15, 20]\n",
    "\n",
    "# Optimization\n",
    "result = minimize(objective, params_initial, args=(x_values), method='Nelder-Mead', options={'maxiter': 10000, 'fatol': 1e-12, 'xatol': 1e-12})\n",
    "\n",
    "r1_opt, t1_opt, t2_opt = result.x\n",
    "\n",
    "print(\"Optimized values:\")\n",
    "print(\"r1:\", r1_opt)\n",
    "print(\"t1:\", t1_opt)\n",
    "print(\"t2:\", t2_opt)\n"
   ]
  },
  {
   "cell_type": "code",
   "execution_count": null,
   "id": "dc875944",
   "metadata": {},
   "outputs": [],
   "source": []
  }
 ],
 "metadata": {
  "kernelspec": {
   "display_name": "Python 3 (ipykernel)",
   "language": "python",
   "name": "python3"
  },
  "language_info": {
   "codemirror_mode": {
    "name": "ipython",
    "version": 3
   },
   "file_extension": ".py",
   "mimetype": "text/x-python",
   "name": "python",
   "nbconvert_exporter": "python",
   "pygments_lexer": "ipython3",
   "version": "3.11.2"
  }
 },
 "nbformat": 4,
 "nbformat_minor": 5
}
